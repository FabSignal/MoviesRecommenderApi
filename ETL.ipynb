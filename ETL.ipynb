{
 "cells": [
  {
   "cell_type": "code",
   "execution_count": 306,
   "metadata": {},
   "outputs": [],
   "source": [
    "import ast\n",
    "import pandas as pd\n",
    "import numpy as np"
   ]
  },
  {
   "cell_type": "code",
   "execution_count": null,
   "metadata": {},
   "outputs": [
    {
     "name": "stderr",
     "output_type": "stream",
     "text": [
      "C:\\Users\\Sofita\\AppData\\Local\\Temp\\ipykernel_91824\\814501468.py:1: DtypeWarning: Columns (10) have mixed types. Specify dtype option on import or set low_memory=False.\n",
      "  data = pd.read_csv(r\"C:\\Users\\Sofita\\Documents\\Henry\\Movies\\movies_dataset.csv\")\n"
     ]
    }
   ],
   "source": [
    "data = pd.read_csv(\"/movies_dataset.csv\")"
   ]
  },
  {
   "cell_type": "code",
   "execution_count": null,
   "metadata": {},
   "outputs": [],
   "source": [
    "credits_to_merge = pd.read_csv(\"credits_merge.csv\")"
   ]
  },
  {
   "cell_type": "markdown",
   "metadata": {},
   "source": [
    "# Análisis de 'data'"
   ]
  },
  {
   "cell_type": "code",
   "execution_count": 309,
   "metadata": {},
   "outputs": [
    {
     "name": "stdout",
     "output_type": "stream",
     "text": [
      "<class 'pandas.core.frame.DataFrame'>\n",
      "RangeIndex: 45466 entries, 0 to 45465\n",
      "Data columns (total 24 columns):\n",
      " #   Column                 Non-Null Count  Dtype  \n",
      "---  ------                 --------------  -----  \n",
      " 0   adult                  45466 non-null  object \n",
      " 1   belongs_to_collection  4494 non-null   object \n",
      " 2   budget                 45466 non-null  object \n",
      " 3   genres                 45466 non-null  object \n",
      " 4   homepage               7782 non-null   object \n",
      " 5   id                     45466 non-null  object \n",
      " 6   imdb_id                45449 non-null  object \n",
      " 7   original_language      45455 non-null  object \n",
      " 8   original_title         45466 non-null  object \n",
      " 9   overview               44512 non-null  object \n",
      " 10  popularity             45461 non-null  object \n",
      " 11  poster_path            45080 non-null  object \n",
      " 12  production_companies   45463 non-null  object \n",
      " 13  production_countries   45463 non-null  object \n",
      " 14  release_date           45379 non-null  object \n",
      " 15  revenue                45460 non-null  float64\n",
      " 16  runtime                45203 non-null  float64\n",
      " 17  spoken_languages       45460 non-null  object \n",
      " 18  status                 45379 non-null  object \n",
      " 19  tagline                20412 non-null  object \n",
      " 20  title                  45460 non-null  object \n",
      " 21  video                  45460 non-null  object \n",
      " 22  vote_average           45460 non-null  float64\n",
      " 23  vote_count             45460 non-null  float64\n",
      "dtypes: float64(4), object(20)\n",
      "memory usage: 8.3+ MB\n"
     ]
    }
   ],
   "source": [
    "data.info()"
   ]
  },
  {
   "cell_type": "code",
   "execution_count": 310,
   "metadata": {},
   "outputs": [
    {
     "data": {
      "text/html": [
       "<div>\n",
       "<style scoped>\n",
       "    .dataframe tbody tr th:only-of-type {\n",
       "        vertical-align: middle;\n",
       "    }\n",
       "\n",
       "    .dataframe tbody tr th {\n",
       "        vertical-align: top;\n",
       "    }\n",
       "\n",
       "    .dataframe thead th {\n",
       "        text-align: right;\n",
       "    }\n",
       "</style>\n",
       "<table border=\"1\" class=\"dataframe\">\n",
       "  <thead>\n",
       "    <tr style=\"text-align: right;\">\n",
       "      <th></th>\n",
       "      <th>adult</th>\n",
       "      <th>belongs_to_collection</th>\n",
       "      <th>budget</th>\n",
       "      <th>genres</th>\n",
       "      <th>homepage</th>\n",
       "      <th>id</th>\n",
       "      <th>imdb_id</th>\n",
       "      <th>original_language</th>\n",
       "      <th>original_title</th>\n",
       "      <th>overview</th>\n",
       "      <th>...</th>\n",
       "      <th>release_date</th>\n",
       "      <th>revenue</th>\n",
       "      <th>runtime</th>\n",
       "      <th>spoken_languages</th>\n",
       "      <th>status</th>\n",
       "      <th>tagline</th>\n",
       "      <th>title</th>\n",
       "      <th>video</th>\n",
       "      <th>vote_average</th>\n",
       "      <th>vote_count</th>\n",
       "    </tr>\n",
       "  </thead>\n",
       "  <tbody>\n",
       "    <tr>\n",
       "      <th>0</th>\n",
       "      <td>False</td>\n",
       "      <td>{'id': 10194, 'name': 'Toy Story Collection', ...</td>\n",
       "      <td>30000000</td>\n",
       "      <td>[{'id': 16, 'name': 'Animation'}, {'id': 35, '...</td>\n",
       "      <td>http://toystory.disney.com/toy-story</td>\n",
       "      <td>862</td>\n",
       "      <td>tt0114709</td>\n",
       "      <td>en</td>\n",
       "      <td>Toy Story</td>\n",
       "      <td>Led by Woody, Andy's toys live happily in his ...</td>\n",
       "      <td>...</td>\n",
       "      <td>1995-10-30</td>\n",
       "      <td>373554033.0</td>\n",
       "      <td>81.0</td>\n",
       "      <td>[{'iso_639_1': 'en', 'name': 'English'}]</td>\n",
       "      <td>Released</td>\n",
       "      <td>NaN</td>\n",
       "      <td>Toy Story</td>\n",
       "      <td>False</td>\n",
       "      <td>7.7</td>\n",
       "      <td>5415.0</td>\n",
       "    </tr>\n",
       "    <tr>\n",
       "      <th>1</th>\n",
       "      <td>False</td>\n",
       "      <td>NaN</td>\n",
       "      <td>65000000</td>\n",
       "      <td>[{'id': 12, 'name': 'Adventure'}, {'id': 14, '...</td>\n",
       "      <td>NaN</td>\n",
       "      <td>8844</td>\n",
       "      <td>tt0113497</td>\n",
       "      <td>en</td>\n",
       "      <td>Jumanji</td>\n",
       "      <td>When siblings Judy and Peter discover an encha...</td>\n",
       "      <td>...</td>\n",
       "      <td>1995-12-15</td>\n",
       "      <td>262797249.0</td>\n",
       "      <td>104.0</td>\n",
       "      <td>[{'iso_639_1': 'en', 'name': 'English'}, {'iso...</td>\n",
       "      <td>Released</td>\n",
       "      <td>Roll the dice and unleash the excitement!</td>\n",
       "      <td>Jumanji</td>\n",
       "      <td>False</td>\n",
       "      <td>6.9</td>\n",
       "      <td>2413.0</td>\n",
       "    </tr>\n",
       "    <tr>\n",
       "      <th>2</th>\n",
       "      <td>False</td>\n",
       "      <td>{'id': 119050, 'name': 'Grumpy Old Men Collect...</td>\n",
       "      <td>0</td>\n",
       "      <td>[{'id': 10749, 'name': 'Romance'}, {'id': 35, ...</td>\n",
       "      <td>NaN</td>\n",
       "      <td>15602</td>\n",
       "      <td>tt0113228</td>\n",
       "      <td>en</td>\n",
       "      <td>Grumpier Old Men</td>\n",
       "      <td>A family wedding reignites the ancient feud be...</td>\n",
       "      <td>...</td>\n",
       "      <td>1995-12-22</td>\n",
       "      <td>0.0</td>\n",
       "      <td>101.0</td>\n",
       "      <td>[{'iso_639_1': 'en', 'name': 'English'}]</td>\n",
       "      <td>Released</td>\n",
       "      <td>Still Yelling. Still Fighting. Still Ready for...</td>\n",
       "      <td>Grumpier Old Men</td>\n",
       "      <td>False</td>\n",
       "      <td>6.5</td>\n",
       "      <td>92.0</td>\n",
       "    </tr>\n",
       "    <tr>\n",
       "      <th>3</th>\n",
       "      <td>False</td>\n",
       "      <td>NaN</td>\n",
       "      <td>16000000</td>\n",
       "      <td>[{'id': 35, 'name': 'Comedy'}, {'id': 18, 'nam...</td>\n",
       "      <td>NaN</td>\n",
       "      <td>31357</td>\n",
       "      <td>tt0114885</td>\n",
       "      <td>en</td>\n",
       "      <td>Waiting to Exhale</td>\n",
       "      <td>Cheated on, mistreated and stepped on, the wom...</td>\n",
       "      <td>...</td>\n",
       "      <td>1995-12-22</td>\n",
       "      <td>81452156.0</td>\n",
       "      <td>127.0</td>\n",
       "      <td>[{'iso_639_1': 'en', 'name': 'English'}]</td>\n",
       "      <td>Released</td>\n",
       "      <td>Friends are the people who let you be yourself...</td>\n",
       "      <td>Waiting to Exhale</td>\n",
       "      <td>False</td>\n",
       "      <td>6.1</td>\n",
       "      <td>34.0</td>\n",
       "    </tr>\n",
       "    <tr>\n",
       "      <th>4</th>\n",
       "      <td>False</td>\n",
       "      <td>{'id': 96871, 'name': 'Father of the Bride Col...</td>\n",
       "      <td>0</td>\n",
       "      <td>[{'id': 35, 'name': 'Comedy'}]</td>\n",
       "      <td>NaN</td>\n",
       "      <td>11862</td>\n",
       "      <td>tt0113041</td>\n",
       "      <td>en</td>\n",
       "      <td>Father of the Bride Part II</td>\n",
       "      <td>Just when George Banks has recovered from his ...</td>\n",
       "      <td>...</td>\n",
       "      <td>1995-02-10</td>\n",
       "      <td>76578911.0</td>\n",
       "      <td>106.0</td>\n",
       "      <td>[{'iso_639_1': 'en', 'name': 'English'}]</td>\n",
       "      <td>Released</td>\n",
       "      <td>Just When His World Is Back To Normal... He's ...</td>\n",
       "      <td>Father of the Bride Part II</td>\n",
       "      <td>False</td>\n",
       "      <td>5.7</td>\n",
       "      <td>173.0</td>\n",
       "    </tr>\n",
       "  </tbody>\n",
       "</table>\n",
       "<p>5 rows × 24 columns</p>\n",
       "</div>"
      ],
      "text/plain": [
       "   adult                              belongs_to_collection    budget  \\\n",
       "0  False  {'id': 10194, 'name': 'Toy Story Collection', ...  30000000   \n",
       "1  False                                                NaN  65000000   \n",
       "2  False  {'id': 119050, 'name': 'Grumpy Old Men Collect...         0   \n",
       "3  False                                                NaN  16000000   \n",
       "4  False  {'id': 96871, 'name': 'Father of the Bride Col...         0   \n",
       "\n",
       "                                              genres  \\\n",
       "0  [{'id': 16, 'name': 'Animation'}, {'id': 35, '...   \n",
       "1  [{'id': 12, 'name': 'Adventure'}, {'id': 14, '...   \n",
       "2  [{'id': 10749, 'name': 'Romance'}, {'id': 35, ...   \n",
       "3  [{'id': 35, 'name': 'Comedy'}, {'id': 18, 'nam...   \n",
       "4                     [{'id': 35, 'name': 'Comedy'}]   \n",
       "\n",
       "                               homepage     id    imdb_id original_language  \\\n",
       "0  http://toystory.disney.com/toy-story    862  tt0114709                en   \n",
       "1                                   NaN   8844  tt0113497                en   \n",
       "2                                   NaN  15602  tt0113228                en   \n",
       "3                                   NaN  31357  tt0114885                en   \n",
       "4                                   NaN  11862  tt0113041                en   \n",
       "\n",
       "                original_title  \\\n",
       "0                    Toy Story   \n",
       "1                      Jumanji   \n",
       "2             Grumpier Old Men   \n",
       "3            Waiting to Exhale   \n",
       "4  Father of the Bride Part II   \n",
       "\n",
       "                                            overview  ... release_date  \\\n",
       "0  Led by Woody, Andy's toys live happily in his ...  ...   1995-10-30   \n",
       "1  When siblings Judy and Peter discover an encha...  ...   1995-12-15   \n",
       "2  A family wedding reignites the ancient feud be...  ...   1995-12-22   \n",
       "3  Cheated on, mistreated and stepped on, the wom...  ...   1995-12-22   \n",
       "4  Just when George Banks has recovered from his ...  ...   1995-02-10   \n",
       "\n",
       "       revenue runtime                                   spoken_languages  \\\n",
       "0  373554033.0    81.0           [{'iso_639_1': 'en', 'name': 'English'}]   \n",
       "1  262797249.0   104.0  [{'iso_639_1': 'en', 'name': 'English'}, {'iso...   \n",
       "2          0.0   101.0           [{'iso_639_1': 'en', 'name': 'English'}]   \n",
       "3   81452156.0   127.0           [{'iso_639_1': 'en', 'name': 'English'}]   \n",
       "4   76578911.0   106.0           [{'iso_639_1': 'en', 'name': 'English'}]   \n",
       "\n",
       "     status                                            tagline  \\\n",
       "0  Released                                                NaN   \n",
       "1  Released          Roll the dice and unleash the excitement!   \n",
       "2  Released  Still Yelling. Still Fighting. Still Ready for...   \n",
       "3  Released  Friends are the people who let you be yourself...   \n",
       "4  Released  Just When His World Is Back To Normal... He's ...   \n",
       "\n",
       "                         title  video vote_average vote_count  \n",
       "0                    Toy Story  False          7.7     5415.0  \n",
       "1                      Jumanji  False          6.9     2413.0  \n",
       "2             Grumpier Old Men  False          6.5       92.0  \n",
       "3            Waiting to Exhale  False          6.1       34.0  \n",
       "4  Father of the Bride Part II  False          5.7      173.0  \n",
       "\n",
       "[5 rows x 24 columns]"
      ]
     },
     "execution_count": 310,
     "metadata": {},
     "output_type": "execute_result"
    }
   ],
   "source": [
    "data.head()"
   ]
  },
  {
   "cell_type": "markdown",
   "metadata": {},
   "source": [
    "- Hacer copias del dataset original"
   ]
  },
  {
   "cell_type": "code",
   "execution_count": 311,
   "metadata": {},
   "outputs": [],
   "source": [
    "data_cleaned = data.copy()"
   ]
  },
  {
   "cell_type": "code",
   "execution_count": 312,
   "metadata": {},
   "outputs": [],
   "source": [
    "data_actors = data.copy()"
   ]
  },
  {
   "cell_type": "code",
   "execution_count": 313,
   "metadata": {},
   "outputs": [],
   "source": [
    "# 1-Desanidar columnas"
   ]
  },
  {
   "cell_type": "markdown",
   "metadata": {},
   "source": [
    "- Inspección de columnas anidadas y sus tipod de datos"
   ]
  },
  {
   "cell_type": "code",
   "execution_count": 314,
   "metadata": {},
   "outputs": [
    {
     "name": "stdout",
     "output_type": "stream",
     "text": [
      "0    {'id': 10194, 'name': 'Toy Story Collection', ...\n",
      "1                                                  NaN\n",
      "2    {'id': 119050, 'name': 'Grumpy Old Men Collect...\n",
      "3                                                  NaN\n",
      "4    {'id': 96871, 'name': 'Father of the Bride Col...\n",
      "Name: belongs_to_collection, dtype: object\n",
      "0    [{'id': 16, 'name': 'Animation'}, {'id': 35, '...\n",
      "1    [{'id': 12, 'name': 'Adventure'}, {'id': 14, '...\n",
      "2    [{'id': 10749, 'name': 'Romance'}, {'id': 35, ...\n",
      "3    [{'id': 35, 'name': 'Comedy'}, {'id': 18, 'nam...\n",
      "4                       [{'id': 35, 'name': 'Comedy'}]\n",
      "Name: genres, dtype: object\n",
      "0       [{'name': 'Pixar Animation Studios', 'id': 3}]\n",
      "1    [{'name': 'TriStar Pictures', 'id': 559}, {'na...\n",
      "2    [{'name': 'Warner Bros.', 'id': 6194}, {'name'...\n",
      "3    [{'name': 'Twentieth Century Fox Film Corporat...\n",
      "4    [{'name': 'Sandollar Productions', 'id': 5842}...\n",
      "Name: production_companies, dtype: object\n",
      "0    [{'iso_3166_1': 'US', 'name': 'United States o...\n",
      "1    [{'iso_3166_1': 'US', 'name': 'United States o...\n",
      "2    [{'iso_3166_1': 'US', 'name': 'United States o...\n",
      "3    [{'iso_3166_1': 'US', 'name': 'United States o...\n",
      "4    [{'iso_3166_1': 'US', 'name': 'United States o...\n",
      "Name: production_countries, dtype: object\n",
      "0             [{'iso_639_1': 'en', 'name': 'English'}]\n",
      "1    [{'iso_639_1': 'en', 'name': 'English'}, {'iso...\n",
      "2             [{'iso_639_1': 'en', 'name': 'English'}]\n",
      "3             [{'iso_639_1': 'en', 'name': 'English'}]\n",
      "4             [{'iso_639_1': 'en', 'name': 'English'}]\n",
      "Name: spoken_languages, dtype: object\n"
     ]
    }
   ],
   "source": [
    "print(data['belongs_to_collection'].head())\n",
    "print(data['genres'].head())\n",
    "print(data['production_companies'].head())\n",
    "print(data['production_countries'].head())\n",
    "print(data['spoken_languages'].head())"
   ]
  },
  {
   "cell_type": "code",
   "execution_count": 315,
   "metadata": {},
   "outputs": [
    {
     "name": "stdout",
     "output_type": "stream",
     "text": [
      "belongs_to_collection\n",
      "<class 'float'>    40972\n",
      "<class 'str'>       4494\n",
      "Name: count, dtype: int64\n",
      "genres\n",
      "<class 'str'>    45466\n",
      "Name: count, dtype: int64\n",
      "production_companies\n",
      "<class 'str'>      45463\n",
      "<class 'float'>        3\n",
      "Name: count, dtype: int64\n",
      "production_countries\n",
      "<class 'str'>      45463\n",
      "<class 'float'>        3\n",
      "Name: count, dtype: int64\n",
      "spoken_languages\n",
      "<class 'str'>      45460\n",
      "<class 'float'>        6\n",
      "Name: count, dtype: int64\n"
     ]
    }
   ],
   "source": [
    "print(data['belongs_to_collection'].apply(type).value_counts())\n",
    "print(data['genres'].apply(type).value_counts())\n",
    "print(data['production_companies'].apply(type).value_counts())\n",
    "print(data['production_countries'].apply(type).value_counts())\n",
    "print(data['spoken_languages'].apply(type).value_counts())\n"
   ]
  },
  {
   "cell_type": "markdown",
   "metadata": {},
   "source": [
    "- Función para convertir cadenas en listas o diccionarios"
   ]
  },
  {
   "cell_type": "code",
   "execution_count": 316,
   "metadata": {},
   "outputs": [],
   "source": [
    "def desanidar_atributos(value):\n",
    "    \"\"\"\n",
    "    Convierte una cadena que representa una lista o un diccionario en un objeto Python.\n",
    "\n",
    "    Esta función toma una cadena y, si es posible, la convierte en una lista o diccionario \n",
    "    utilizando `ast.literal_eval`. Esto permite trabajar con datos anidados en formato de \n",
    "    texto. Si el valor es nulo o la conversión falla, devuelve `None`.\n",
    "\n",
    "    Parámetro:\n",
    "        value (str): Cadena que representa una lista o diccionario en formato de texto, o \n",
    "                     cualquier otro tipo de valor.\n",
    "\n",
    "    Returns:\n",
    "        list, dict, or None: La lista o diccionario evaluados si la conversión es exitosa. \n",
    "                             Devuelve `None` si `value` es nulo, no es una cadena o la \n",
    "                             conversión falla.\n",
    "    \"\"\"\n",
    "    if pd.isna(value):\n",
    "        return None\n",
    "    if isinstance(value, str):\n",
    "        try:\n",
    "            return ast.literal_eval(value)\n",
    "        except (ValueError, SyntaxError):\n",
    "            return None\n",
    "    return None"
   ]
  },
  {
   "cell_type": "code",
   "execution_count": 317,
   "metadata": {},
   "outputs": [],
   "source": [
    "import pandas as pd\n",
    "\n",
    "def desanidar_lista_diccionarios(df, column_name, prefix):\n",
    "    \"\"\"\n",
    "    Desanida y expande una columna que contiene listas de diccionarios en un DataFrame.\n",
    "    Imprime las primeras filas de la columna desanidada.\n",
    "\n",
    "    Parámetros:\n",
    "    df (pd.DataFrame): DataFrame que contiene la columna a desanidar.\n",
    "    column_name (str): Nombre de la columna con listas de diccionarios.\n",
    "    prefix (str): Prefijo a agregar a las columnas nuevas generadas a partir de los diccionarios.\n",
    "    \n",
    "    Returns:\n",
    "    pd.DataFrame: DataFrame con las columnas desanidadas y el prefijo especificado, incluyendo la columna 'id'.\n",
    "    \"\"\"\n",
    "    df[column_name] = df[column_name].apply(desanidar_atributos)\n",
    "    df_expanded = df.explode(column_name, ignore_index=True)\n",
    "    normalized_data = pd.json_normalize(df_expanded[column_name]).add_prefix(f'{prefix}_')\n",
    "    normalized_data['id'] = df_expanded['id'].reset_index(drop=True)\n",
    "\n",
    "    print(f\"Head de la columna desanidada '{column_name}' con prefijo '{prefix}':\\n\", normalized_data.head())\n",
    "\n",
    "    return normalized_data\n"
   ]
  },
  {
   "cell_type": "code",
   "execution_count": 318,
   "metadata": {},
   "outputs": [],
   "source": [
    "def desanidar_diccionario(df, column_name, prefix):\n",
    "    \"\"\"\n",
    "    Desanida una columna que contiene diccionarios en un DataFrame y expande los datos en columnas individuales.\n",
    "    Imprime las primeras filas de la columna desanidada.\n",
    "\n",
    "    Parameters:\n",
    "    df (pd.DataFrame): DataFrame que contiene la columna a desanidar.\n",
    "    column_name (str): Nombre de la columna con diccionarios.\n",
    "    prefix (str): Prefijo a agregar a las columnas nuevas generadas a partir del diccionario.\n",
    "    \n",
    "    Returns:\n",
    "    pd.DataFrame: DataFrame con las columnas desanidadas y el prefijo especificado, incluyendo la columna 'id'.\n",
    "    \"\"\"\n",
    "    df[column_name] = df[column_name].apply(desanidar_atributos)\n",
    "    normalized_data = pd.json_normalize(df[column_name]).add_prefix(f'{prefix}_')\n",
    "    normalized_data['id'] = df['id'].reset_index(drop=True)\n",
    "\n",
    "    print(f\"Head de la columna desanidada '{column_name}' con prefijo '{prefix}':\\n\", normalized_data.head())\n",
    "\n",
    "    return normalized_data\n",
    "\n"
   ]
  },
  {
   "cell_type": "markdown",
   "metadata": {},
   "source": [
    "- Desanidando cada columna de forma secuencial"
   ]
  },
  {
   "cell_type": "code",
   "execution_count": 319,
   "metadata": {},
   "outputs": [
    {
     "name": "stdout",
     "output_type": "stream",
     "text": [
      "Head de la columna desanidada 'belongs_to_collection' con prefijo 'collections':\n",
      "    collections_id                collections_name  \\\n",
      "0         10194.0            Toy Story Collection   \n",
      "1             NaN                             NaN   \n",
      "2        119050.0       Grumpy Old Men Collection   \n",
      "3             NaN                             NaN   \n",
      "4         96871.0  Father of the Bride Collection   \n",
      "\n",
      "            collections_poster_path         collections_backdrop_path     id  \n",
      "0  /7G9915LfUQ2lVfwMEEhDsn3kT4B.jpg  /9FBwqcd9IRruEDUrTdcaafOMKUq.jpg    862  \n",
      "1                               NaN                               NaN   8844  \n",
      "2  /nLvUdqgPgm3F85NMCii9gVFUcet.jpg  /hypTnLot2z8wpFS7qwsQHW1uV8u.jpg  15602  \n",
      "3                               NaN                               NaN  31357  \n",
      "4  /nts4iOmNnq7GNicycMJ9pSAn204.jpg  /7qwE57OVZmMJChBpLEbJEmzUydk.jpg  11862  \n",
      "Head de la columna desanidada 'genres' con prefijo 'genres':\n",
      "    genres_id genres_name    id\n",
      "0       16.0   Animation   862\n",
      "1       35.0      Comedy   862\n",
      "2    10751.0      Family   862\n",
      "3       12.0   Adventure  8844\n",
      "4       14.0     Fantasy  8844\n",
      "Head de la columna desanidada 'production_companies' con prefijo 'production_companies':\n",
      "    production_companies_name  production_companies_id     id\n",
      "0    Pixar Animation Studios                      3.0    862\n",
      "1           TriStar Pictures                    559.0   8844\n",
      "2               Teitler Film                   2550.0   8844\n",
      "3  Interscope Communications                  10201.0   8844\n",
      "4               Warner Bros.                   6194.0  15602\n",
      "Head de la columna desanidada 'production_countries' con prefijo 'production_countries':\n",
      "   production_countries_iso_3166_1 production_countries_name     id\n",
      "0                              US  United States of America    862\n",
      "1                              US  United States of America   8844\n",
      "2                              US  United States of America  15602\n",
      "3                              US  United States of America  31357\n",
      "4                              US  United States of America  11862\n",
      "Head de la columna desanidada 'spoken_languages' con prefijo 'languages':\n",
      "   languages_iso_639_1 languages_name     id\n",
      "0                  en        English    862\n",
      "1                  en        English   8844\n",
      "2                  fr       Français   8844\n",
      "3                  en        English  15602\n",
      "4                  en        English  31357\n"
     ]
    }
   ],
   "source": [
    "desanidado_collection = desanidar_diccionario(data_cleaned, 'belongs_to_collection','collections')\n",
    "desanidado_genre = desanidar_lista_diccionarios(data_cleaned, 'genres', 'genres')\n",
    "desanidado_company = desanidar_lista_diccionarios(data_cleaned, 'production_companies', 'production_companies')\n",
    "desanidado_country = desanidar_lista_diccionarios(data_cleaned, 'production_countries', 'production_countries')\n",
    "desanidado_language = desanidar_lista_diccionarios(data_cleaned, 'spoken_languages', 'languages')"
   ]
  },
  {
   "cell_type": "markdown",
   "metadata": {},
   "source": [
    "## Inspeccionar las columnas de desanidado_cast y desanidado_crew .\n",
    "Se fusionan las columnas al dataset original, creando 2 DataFrames que tras sucesivas transformaciones resultarán en:\n",
    "- merged_data_model.parquet : será utilizado en el EDA\n",
    "- merged_data_actors.parquet : cumple con los requerimientos de datos justos para deployar las funciones en la Api(sin incluir la función del modelo)"
   ]
  },
  {
   "cell_type": "markdown",
   "metadata": {},
   "source": [
    "- Eliminar las columnas con datos anidados"
   ]
  },
  {
   "cell_type": "code",
   "execution_count": 320,
   "metadata": {},
   "outputs": [],
   "source": [
    "delete_columns = ['belongs_to_collection', 'genres', 'production_companies', 'production_countries','spoken_languages']\n",
    "\n",
    "data_cleaned = data_cleaned.drop(columns= delete_columns)\n",
    "data_actors = data_actors.drop(columns= delete_columns)"
   ]
  },
  {
   "cell_type": "markdown",
   "metadata": {},
   "source": [
    "- Fusionar "
   ]
  },
  {
   "cell_type": "code",
   "execution_count": 321,
   "metadata": {},
   "outputs": [],
   "source": [
    "data_cleaned = data_cleaned.merge(\n",
    "    desanidado_genre[['id', 'genres_name']], \n",
    "    on='id', \n",
    "    how='left'\n",
    ").merge(\n",
    "    desanidado_company[['id', 'production_companies_name']], \n",
    "    on='id', \n",
    "    how='left'\n",
    ").merge(\n",
    "    desanidado_country[['id', 'production_countries_name']],\n",
    "    on='id', \n",
    "    how='left'\n",
    ")"
   ]
  },
  {
   "cell_type": "markdown",
   "metadata": {},
   "source": [
    "- Se agrupan por 'id' las filas de data_cleaned para evitar replicación de datos"
   ]
  },
  {
   "cell_type": "code",
   "execution_count": 322,
   "metadata": {},
   "outputs": [],
   "source": [
    "def agrupar_y_fusionar(df, columna_key , columnas_a_agrupar):\n",
    "    \"\"\"\n",
    "    Agrupa las columnas desanidadas en listas únicas por cada valor en la columna de agrupación.\n",
    "    Luego elimina las columnas desanidadas originales y fusiona los resultados en el DataFrame principal.\n",
    "\n",
    "    Parámetros:\n",
    "    df (pd.DataFrame): DataFrame original.\n",
    "    columna_id (str): Nombre de la columna usada para agrupar (e.g., 'id').\n",
    "    columnas_a_agrupar (list): Lista de nombres de las columnas desanidadas que se deben agrupar.\n",
    "\n",
    "    Retorna:\n",
    "    pd.DataFrame: DataFrame con las columnas agrupadas en listas y sin duplicados.\n",
    "    \"\"\"\n",
    "\n",
    "    # Agrupar cada columna en listas únicas\n",
    "    for columna in columnas_a_agrupar:\n",
    "        agrupado = df.groupby(columna_key)[columna].unique().apply(list).reset_index()\n",
    "        df = df.drop(columns=[columna]).drop_duplicates(subset=columna_key)\n",
    "        df = df.merge(agrupado, on=columna_key, how='left')\n",
    "    \n",
    "    return df"
   ]
  },
  {
   "cell_type": "code",
   "execution_count": 323,
   "metadata": {},
   "outputs": [],
   "source": [
    "columnas_para_agrupar = ['genres_name', 'production_companies_name', 'production_countries_name']\n",
    "data_cleaned = agrupar_y_fusionar(data_cleaned, 'id', columnas_para_agrupar)"
   ]
  },
  {
   "cell_type": "code",
   "execution_count": 324,
   "metadata": {},
   "outputs": [
    {
     "data": {
      "text/html": [
       "<div>\n",
       "<style scoped>\n",
       "    .dataframe tbody tr th:only-of-type {\n",
       "        vertical-align: middle;\n",
       "    }\n",
       "\n",
       "    .dataframe tbody tr th {\n",
       "        vertical-align: top;\n",
       "    }\n",
       "\n",
       "    .dataframe thead th {\n",
       "        text-align: right;\n",
       "    }\n",
       "</style>\n",
       "<table border=\"1\" class=\"dataframe\">\n",
       "  <thead>\n",
       "    <tr style=\"text-align: right;\">\n",
       "      <th></th>\n",
       "      <th>adult</th>\n",
       "      <th>budget</th>\n",
       "      <th>homepage</th>\n",
       "      <th>id</th>\n",
       "      <th>imdb_id</th>\n",
       "      <th>original_language</th>\n",
       "      <th>original_title</th>\n",
       "      <th>overview</th>\n",
       "      <th>popularity</th>\n",
       "      <th>poster_path</th>\n",
       "      <th>...</th>\n",
       "      <th>runtime</th>\n",
       "      <th>status</th>\n",
       "      <th>tagline</th>\n",
       "      <th>title</th>\n",
       "      <th>video</th>\n",
       "      <th>vote_average</th>\n",
       "      <th>vote_count</th>\n",
       "      <th>genres_name</th>\n",
       "      <th>production_companies_name</th>\n",
       "      <th>production_countries_name</th>\n",
       "    </tr>\n",
       "  </thead>\n",
       "  <tbody>\n",
       "    <tr>\n",
       "      <th>0</th>\n",
       "      <td>False</td>\n",
       "      <td>30000000</td>\n",
       "      <td>http://toystory.disney.com/toy-story</td>\n",
       "      <td>862</td>\n",
       "      <td>tt0114709</td>\n",
       "      <td>en</td>\n",
       "      <td>Toy Story</td>\n",
       "      <td>Led by Woody, Andy's toys live happily in his ...</td>\n",
       "      <td>21.946943</td>\n",
       "      <td>/rhIRbceoE9lR4veEXuwCC2wARtG.jpg</td>\n",
       "      <td>...</td>\n",
       "      <td>81.0</td>\n",
       "      <td>Released</td>\n",
       "      <td>NaN</td>\n",
       "      <td>Toy Story</td>\n",
       "      <td>False</td>\n",
       "      <td>7.7</td>\n",
       "      <td>5415.0</td>\n",
       "      <td>[Animation, Comedy, Family]</td>\n",
       "      <td>[Pixar Animation Studios]</td>\n",
       "      <td>[United States of America]</td>\n",
       "    </tr>\n",
       "    <tr>\n",
       "      <th>1</th>\n",
       "      <td>False</td>\n",
       "      <td>65000000</td>\n",
       "      <td>NaN</td>\n",
       "      <td>8844</td>\n",
       "      <td>tt0113497</td>\n",
       "      <td>en</td>\n",
       "      <td>Jumanji</td>\n",
       "      <td>When siblings Judy and Peter discover an encha...</td>\n",
       "      <td>17.015539</td>\n",
       "      <td>/vzmL6fP7aPKNKPRTFnZmiUfciyV.jpg</td>\n",
       "      <td>...</td>\n",
       "      <td>104.0</td>\n",
       "      <td>Released</td>\n",
       "      <td>Roll the dice and unleash the excitement!</td>\n",
       "      <td>Jumanji</td>\n",
       "      <td>False</td>\n",
       "      <td>6.9</td>\n",
       "      <td>2413.0</td>\n",
       "      <td>[Adventure, Fantasy, Family]</td>\n",
       "      <td>[TriStar Pictures]</td>\n",
       "      <td>[United States of America]</td>\n",
       "    </tr>\n",
       "    <tr>\n",
       "      <th>2</th>\n",
       "      <td>False</td>\n",
       "      <td>0</td>\n",
       "      <td>NaN</td>\n",
       "      <td>15602</td>\n",
       "      <td>tt0113228</td>\n",
       "      <td>en</td>\n",
       "      <td>Grumpier Old Men</td>\n",
       "      <td>A family wedding reignites the ancient feud be...</td>\n",
       "      <td>11.7129</td>\n",
       "      <td>/6ksm1sjKMFLbO7UY2i6G1ju9SML.jpg</td>\n",
       "      <td>...</td>\n",
       "      <td>101.0</td>\n",
       "      <td>Released</td>\n",
       "      <td>Still Yelling. Still Fighting. Still Ready for...</td>\n",
       "      <td>Grumpier Old Men</td>\n",
       "      <td>False</td>\n",
       "      <td>6.5</td>\n",
       "      <td>92.0</td>\n",
       "      <td>[Romance, Comedy]</td>\n",
       "      <td>[Warner Bros.]</td>\n",
       "      <td>[United States of America]</td>\n",
       "    </tr>\n",
       "  </tbody>\n",
       "</table>\n",
       "<p>3 rows × 22 columns</p>\n",
       "</div>"
      ],
      "text/plain": [
       "   adult    budget                              homepage     id    imdb_id  \\\n",
       "0  False  30000000  http://toystory.disney.com/toy-story    862  tt0114709   \n",
       "1  False  65000000                                   NaN   8844  tt0113497   \n",
       "2  False         0                                   NaN  15602  tt0113228   \n",
       "\n",
       "  original_language    original_title  \\\n",
       "0                en         Toy Story   \n",
       "1                en           Jumanji   \n",
       "2                en  Grumpier Old Men   \n",
       "\n",
       "                                            overview popularity  \\\n",
       "0  Led by Woody, Andy's toys live happily in his ...  21.946943   \n",
       "1  When siblings Judy and Peter discover an encha...  17.015539   \n",
       "2  A family wedding reignites the ancient feud be...    11.7129   \n",
       "\n",
       "                        poster_path  ... runtime    status  \\\n",
       "0  /rhIRbceoE9lR4veEXuwCC2wARtG.jpg  ...    81.0  Released   \n",
       "1  /vzmL6fP7aPKNKPRTFnZmiUfciyV.jpg  ...   104.0  Released   \n",
       "2  /6ksm1sjKMFLbO7UY2i6G1ju9SML.jpg  ...   101.0  Released   \n",
       "\n",
       "                                             tagline             title  video  \\\n",
       "0                                                NaN         Toy Story  False   \n",
       "1          Roll the dice and unleash the excitement!           Jumanji  False   \n",
       "2  Still Yelling. Still Fighting. Still Ready for...  Grumpier Old Men  False   \n",
       "\n",
       "  vote_average vote_count                   genres_name  \\\n",
       "0          7.7     5415.0   [Animation, Comedy, Family]   \n",
       "1          6.9     2413.0  [Adventure, Fantasy, Family]   \n",
       "2          6.5       92.0             [Romance, Comedy]   \n",
       "\n",
       "   production_companies_name   production_countries_name  \n",
       "0  [Pixar Animation Studios]  [United States of America]  \n",
       "1         [TriStar Pictures]  [United States of America]  \n",
       "2             [Warner Bros.]  [United States of America]  \n",
       "\n",
       "[3 rows x 22 columns]"
      ]
     },
     "execution_count": 324,
     "metadata": {},
     "output_type": "execute_result"
    }
   ],
   "source": [
    "data_cleaned.head(3)"
   ]
  },
  {
   "cell_type": "code",
   "execution_count": 325,
   "metadata": {},
   "outputs": [
    {
     "data": {
      "text/html": [
       "<div>\n",
       "<style scoped>\n",
       "    .dataframe tbody tr th:only-of-type {\n",
       "        vertical-align: middle;\n",
       "    }\n",
       "\n",
       "    .dataframe tbody tr th {\n",
       "        vertical-align: top;\n",
       "    }\n",
       "\n",
       "    .dataframe thead th {\n",
       "        text-align: right;\n",
       "    }\n",
       "</style>\n",
       "<table border=\"1\" class=\"dataframe\">\n",
       "  <thead>\n",
       "    <tr style=\"text-align: right;\">\n",
       "      <th></th>\n",
       "      <th>adult</th>\n",
       "      <th>budget</th>\n",
       "      <th>homepage</th>\n",
       "      <th>id</th>\n",
       "      <th>imdb_id</th>\n",
       "      <th>original_language</th>\n",
       "      <th>original_title</th>\n",
       "      <th>overview</th>\n",
       "      <th>popularity</th>\n",
       "      <th>poster_path</th>\n",
       "      <th>release_date</th>\n",
       "      <th>revenue</th>\n",
       "      <th>runtime</th>\n",
       "      <th>status</th>\n",
       "      <th>tagline</th>\n",
       "      <th>title</th>\n",
       "      <th>video</th>\n",
       "      <th>vote_average</th>\n",
       "      <th>vote_count</th>\n",
       "    </tr>\n",
       "  </thead>\n",
       "  <tbody>\n",
       "    <tr>\n",
       "      <th>0</th>\n",
       "      <td>False</td>\n",
       "      <td>30000000</td>\n",
       "      <td>http://toystory.disney.com/toy-story</td>\n",
       "      <td>862</td>\n",
       "      <td>tt0114709</td>\n",
       "      <td>en</td>\n",
       "      <td>Toy Story</td>\n",
       "      <td>Led by Woody, Andy's toys live happily in his ...</td>\n",
       "      <td>21.946943</td>\n",
       "      <td>/rhIRbceoE9lR4veEXuwCC2wARtG.jpg</td>\n",
       "      <td>1995-10-30</td>\n",
       "      <td>373554033.0</td>\n",
       "      <td>81.0</td>\n",
       "      <td>Released</td>\n",
       "      <td>NaN</td>\n",
       "      <td>Toy Story</td>\n",
       "      <td>False</td>\n",
       "      <td>7.7</td>\n",
       "      <td>5415.0</td>\n",
       "    </tr>\n",
       "    <tr>\n",
       "      <th>1</th>\n",
       "      <td>False</td>\n",
       "      <td>65000000</td>\n",
       "      <td>NaN</td>\n",
       "      <td>8844</td>\n",
       "      <td>tt0113497</td>\n",
       "      <td>en</td>\n",
       "      <td>Jumanji</td>\n",
       "      <td>When siblings Judy and Peter discover an encha...</td>\n",
       "      <td>17.015539</td>\n",
       "      <td>/vzmL6fP7aPKNKPRTFnZmiUfciyV.jpg</td>\n",
       "      <td>1995-12-15</td>\n",
       "      <td>262797249.0</td>\n",
       "      <td>104.0</td>\n",
       "      <td>Released</td>\n",
       "      <td>Roll the dice and unleash the excitement!</td>\n",
       "      <td>Jumanji</td>\n",
       "      <td>False</td>\n",
       "      <td>6.9</td>\n",
       "      <td>2413.0</td>\n",
       "    </tr>\n",
       "    <tr>\n",
       "      <th>2</th>\n",
       "      <td>False</td>\n",
       "      <td>0</td>\n",
       "      <td>NaN</td>\n",
       "      <td>15602</td>\n",
       "      <td>tt0113228</td>\n",
       "      <td>en</td>\n",
       "      <td>Grumpier Old Men</td>\n",
       "      <td>A family wedding reignites the ancient feud be...</td>\n",
       "      <td>11.7129</td>\n",
       "      <td>/6ksm1sjKMFLbO7UY2i6G1ju9SML.jpg</td>\n",
       "      <td>1995-12-22</td>\n",
       "      <td>0.0</td>\n",
       "      <td>101.0</td>\n",
       "      <td>Released</td>\n",
       "      <td>Still Yelling. Still Fighting. Still Ready for...</td>\n",
       "      <td>Grumpier Old Men</td>\n",
       "      <td>False</td>\n",
       "      <td>6.5</td>\n",
       "      <td>92.0</td>\n",
       "    </tr>\n",
       "  </tbody>\n",
       "</table>\n",
       "</div>"
      ],
      "text/plain": [
       "   adult    budget                              homepage     id    imdb_id  \\\n",
       "0  False  30000000  http://toystory.disney.com/toy-story    862  tt0114709   \n",
       "1  False  65000000                                   NaN   8844  tt0113497   \n",
       "2  False         0                                   NaN  15602  tt0113228   \n",
       "\n",
       "  original_language    original_title  \\\n",
       "0                en         Toy Story   \n",
       "1                en           Jumanji   \n",
       "2                en  Grumpier Old Men   \n",
       "\n",
       "                                            overview popularity  \\\n",
       "0  Led by Woody, Andy's toys live happily in his ...  21.946943   \n",
       "1  When siblings Judy and Peter discover an encha...  17.015539   \n",
       "2  A family wedding reignites the ancient feud be...    11.7129   \n",
       "\n",
       "                        poster_path release_date      revenue  runtime  \\\n",
       "0  /rhIRbceoE9lR4veEXuwCC2wARtG.jpg   1995-10-30  373554033.0     81.0   \n",
       "1  /vzmL6fP7aPKNKPRTFnZmiUfciyV.jpg   1995-12-15  262797249.0    104.0   \n",
       "2  /6ksm1sjKMFLbO7UY2i6G1ju9SML.jpg   1995-12-22          0.0    101.0   \n",
       "\n",
       "     status                                            tagline  \\\n",
       "0  Released                                                NaN   \n",
       "1  Released          Roll the dice and unleash the excitement!   \n",
       "2  Released  Still Yelling. Still Fighting. Still Ready for...   \n",
       "\n",
       "              title  video  vote_average  vote_count  \n",
       "0         Toy Story  False           7.7      5415.0  \n",
       "1           Jumanji  False           6.9      2413.0  \n",
       "2  Grumpier Old Men  False           6.5        92.0  "
      ]
     },
     "execution_count": 325,
     "metadata": {},
     "output_type": "execute_result"
    }
   ],
   "source": [
    "data_actors.head(3)"
   ]
  },
  {
   "cell_type": "markdown",
   "metadata": {},
   "source": [
    "# 2-Eliminar las filas nulas de 'release_date' y 'title'\n",
    "- Se eliminan los valores nulos de estas columnas y se chequea que todos los datos de 'title' sean 'string'"
   ]
  },
  {
   "cell_type": "markdown",
   "metadata": {},
   "source": [
    "- 'title'"
   ]
  },
  {
   "cell_type": "code",
   "execution_count": 326,
   "metadata": {},
   "outputs": [
    {
     "name": "stdout",
     "output_type": "stream",
     "text": [
      "title\n",
      "<class 'str'>      45460\n",
      "<class 'float'>        6\n",
      "Name: count, dtype: int64\n"
     ]
    }
   ],
   "source": [
    "print(data['title'].apply(type).value_counts())"
   ]
  },
  {
   "cell_type": "code",
   "execution_count": 327,
   "metadata": {},
   "outputs": [],
   "source": [
    "data_cleaned.dropna(subset=['title'], inplace=True)\n",
    "data_actors.dropna(subset=['title'], inplace=True)\n",
    "\n",
    "data_cleaned = data_cleaned[data_cleaned['title'].apply(lambda x: isinstance(x, str))]\n",
    "data_actors = data_actors[data_actors['title'].apply(lambda x: isinstance(x, str))]"
   ]
  },
  {
   "cell_type": "code",
   "execution_count": 328,
   "metadata": {},
   "outputs": [
    {
     "name": "stdout",
     "output_type": "stream",
     "text": [
      "title\n",
      "<class 'str'>    45430\n",
      "Name: count, dtype: int64\n",
      "title\n",
      "<class 'str'>    45460\n",
      "Name: count, dtype: int64\n"
     ]
    }
   ],
   "source": [
    "print(data_cleaned['title'].apply(type).value_counts())\n",
    "print(data_actors['title'].apply(type).value_counts())"
   ]
  },
  {
   "cell_type": "markdown",
   "metadata": {},
   "source": [
    "- 'release_date'"
   ]
  },
  {
   "cell_type": "code",
   "execution_count": 329,
   "metadata": {},
   "outputs": [
    {
     "name": "stdout",
     "output_type": "stream",
     "text": [
      "Cantidad de valores nulos en release_date: 87\n"
     ]
    }
   ],
   "source": [
    "print(\"Cantidad de valores nulos en release_date:\", data['release_date'].isnull().sum())"
   ]
  },
  {
   "cell_type": "code",
   "execution_count": 330,
   "metadata": {},
   "outputs": [],
   "source": [
    "data_cleaned = data_cleaned.dropna(subset=['release_date']).reset_index(drop=True)"
   ]
  },
  {
   "cell_type": "code",
   "execution_count": 331,
   "metadata": {},
   "outputs": [],
   "source": [
    "data_actors = data_actors.dropna(subset=['release_date']).reset_index(drop=True)\n"
   ]
  },
  {
   "cell_type": "markdown",
   "metadata": {},
   "source": [
    "# 3-Formatear release_year"
   ]
  },
  {
   "cell_type": "markdown",
   "metadata": {},
   "source": [
    "- Se convierte la columna release_date a formato de fecha. En caso de error, las fechas no válidas se reemplazan con NaT para facilitar su identificación y eliminación."
   ]
  },
  {
   "cell_type": "code",
   "execution_count": 332,
   "metadata": {},
   "outputs": [],
   "source": [
    "data_cleaned['release_date'] = pd.to_datetime(data_cleaned['release_date'], errors='coerce')\n",
    "data_actors['release_date'] = pd.to_datetime(data_actors['release_date'], errors='coerce')"
   ]
  },
  {
   "cell_type": "markdown",
   "metadata": {},
   "source": [
    "- Contar errores de conversión"
   ]
  },
  {
   "cell_type": "code",
   "execution_count": 333,
   "metadata": {},
   "outputs": [],
   "source": [
    "conversion_errors = data_cleaned['release_date'].isnull().sum()\n",
    "conversion_errors_actors = data_actors['release_date'].isnull().sum()"
   ]
  },
  {
   "cell_type": "markdown",
   "metadata": {},
   "source": [
    "- Eliminar fechas no válidas"
   ]
  },
  {
   "cell_type": "code",
   "execution_count": 334,
   "metadata": {},
   "outputs": [],
   "source": [
    "data_cleaned.dropna(subset=['release_date'], inplace=True)\n",
    "data_actors.dropna(subset=['release_date'], inplace=True)"
   ]
  },
  {
   "cell_type": "markdown",
   "metadata": {},
   "source": [
    "- Se muestra la cantidad de filas eliminadas debido a fechas no válidas, para registrar los datos perdidos en la limpieza."
   ]
  },
  {
   "cell_type": "code",
   "execution_count": 335,
   "metadata": {},
   "outputs": [
    {
     "name": "stdout",
     "output_type": "stream",
     "text": [
      "Se eliminaron 0 filas debido a errores de conversión.\n"
     ]
    }
   ],
   "source": [
    "print(f\"Se eliminaron {conversion_errors} filas debido a errores de conversión.\")\n"
   ]
  },
  {
   "cell_type": "markdown",
   "metadata": {},
   "source": [
    "## Crear la columna release_year extrayendo el año de release_date como entero"
   ]
  },
  {
   "cell_type": "code",
   "execution_count": 336,
   "metadata": {},
   "outputs": [],
   "source": [
    "data_cleaned['release_year'] = data_cleaned['release_date'].dt.year.astype(int)\n",
    "data_actors['release_year'] = data_actors['release_date'].dt.year.astype(int)"
   ]
  },
  {
   "cell_type": "markdown",
   "metadata": {},
   "source": [
    "# 4- Eliminar columnas que no serán utilizadas\n",
    "- Recomendadas : video,imdb_id,adult,original_title,poster_path y homepage.\n",
    "- Además :'video', 'imdb_id', 'adult', 'original_title', 'poster_path', 'homepage', 'tagline', 'runtime'"
   ]
  },
  {
   "cell_type": "code",
   "execution_count": 337,
   "metadata": {},
   "outputs": [],
   "source": [
    "columns_to_drop = ['video', 'imdb_id', 'adult', 'original_title', 'poster_path', 'homepage', 'tagline', 'runtime']\n",
    "columns_to_drop_actors = ['video', 'imdb_id', 'adult', 'original_title', 'poster_path', 'homepage', 'tagline', 'runtime','overview']\n",
    "data_cleaned.drop(columns=columns_to_drop, inplace = True)\n",
    "data_actors.drop(columns=columns_to_drop_actors, inplace = True)"
   ]
  },
  {
   "cell_type": "markdown",
   "metadata": {},
   "source": [
    "# 5-Crear la columna 'return' con el retorno de inversión\n",
    "Se divide revenue / budget tras asegurarse de que ambos campos sean numéricos. Si no hay datos disponibles para el cálculo, deberá tomar el valor 0."
   ]
  },
  {
   "cell_type": "code",
   "execution_count": 338,
   "metadata": {},
   "outputs": [],
   "source": [
    "data_cleaned['revenue'] = pd.to_numeric(data_cleaned['revenue'], errors='coerce')\n",
    "data_cleaned['budget'] = pd.to_numeric(data_cleaned['budget'], errors='coerce')\n",
    "\n",
    "data_actors['revenue'] = pd.to_numeric(data_actors['revenue'], errors='coerce')\n",
    "data_actors['budget'] = pd.to_numeric(data_actors['budget'], errors='coerce')\n",
    "\n",
    "\n",
    "data_cleaned['return'] = np.where(data_cleaned['budget'] > 0,\n",
    "                                   data_cleaned['revenue'] / data_cleaned['budget'],\n",
    "                                   0)\n",
    "\n",
    "data_actors['return'] = np.where(data_actors['budget'] > 0,\n",
    "                                   data_actors['revenue'] / data_actors['budget'],\n",
    "                                   0)"
   ]
  },
  {
   "cell_type": "markdown",
   "metadata": {},
   "source": [
    "# Filtrar las filas en las que el valor de la columna 'status' no sea \"Released\"\n",
    "- Eliminar la columna 'status'.\n",
    "Esta decisión es tomada tras analizar los valores únicos de la columna status"
   ]
  },
  {
   "cell_type": "code",
   "execution_count": 339,
   "metadata": {},
   "outputs": [
    {
     "data": {
      "text/plain": [
       "status\n",
       "Released           44907\n",
       "Rumored              229\n",
       "Post Production       97\n",
       "In Production         19\n",
       "Planned               13\n",
       "Canceled               1\n",
       "Name: count, dtype: int64"
      ]
     },
     "execution_count": 339,
     "metadata": {},
     "output_type": "execute_result"
    }
   ],
   "source": [
    "data_cleaned['status'].value_counts()"
   ]
  },
  {
   "cell_type": "code",
   "execution_count": 340,
   "metadata": {},
   "outputs": [],
   "source": [
    "data_cleaned = data_cleaned[data_cleaned['status'] == 'Released']\n",
    "data_actors = data_actors[data_actors['status'] == 'Released']"
   ]
  },
  {
   "cell_type": "code",
   "execution_count": 341,
   "metadata": {},
   "outputs": [],
   "source": [
    "data_cleaned.drop(columns=['status'], inplace = True)\n",
    "data_actors.drop(columns=['status'], inplace = True)"
   ]
  },
  {
   "cell_type": "markdown",
   "metadata": {},
   "source": [
    "# Filtrar el DataFrame para mantener solo las filas donde el año de estreno sea mayor o igual a 1940"
   ]
  },
  {
   "cell_type": "code",
   "execution_count": 342,
   "metadata": {},
   "outputs": [],
   "source": [
    "data_cleaned = data_cleaned[data_cleaned['release_year'] >= 1940].reset_index(drop=True)\n",
    "data_actors = data_actors[data_actors['release_year'] >= 1940].reset_index(drop=True)"
   ]
  },
  {
   "cell_type": "markdown",
   "metadata": {},
   "source": [
    "# Filtrar por Lenguaje\n",
    "- Se decide filtrar los 6 primeros lenguajes con mayor presencia.\n",
    "- Se elimina la columna 'original_language'"
   ]
  },
  {
   "cell_type": "code",
   "execution_count": 343,
   "metadata": {},
   "outputs": [
    {
     "data": {
      "text/html": [
       "<div>\n",
       "<style scoped>\n",
       "    .dataframe tbody tr th:only-of-type {\n",
       "        vertical-align: middle;\n",
       "    }\n",
       "\n",
       "    .dataframe tbody tr th {\n",
       "        vertical-align: top;\n",
       "    }\n",
       "\n",
       "    .dataframe thead th {\n",
       "        text-align: right;\n",
       "    }\n",
       "</style>\n",
       "<table border=\"1\" class=\"dataframe\">\n",
       "  <thead>\n",
       "    <tr style=\"text-align: right;\">\n",
       "      <th></th>\n",
       "      <th>original_language</th>\n",
       "      <th>count</th>\n",
       "    </tr>\n",
       "  </thead>\n",
       "  <tbody>\n",
       "    <tr>\n",
       "      <th>0</th>\n",
       "      <td>en</td>\n",
       "      <td>30181</td>\n",
       "    </tr>\n",
       "    <tr>\n",
       "      <th>1</th>\n",
       "      <td>fr</td>\n",
       "      <td>2266</td>\n",
       "    </tr>\n",
       "    <tr>\n",
       "      <th>2</th>\n",
       "      <td>it</td>\n",
       "      <td>1505</td>\n",
       "    </tr>\n",
       "    <tr>\n",
       "      <th>3</th>\n",
       "      <td>ja</td>\n",
       "      <td>1309</td>\n",
       "    </tr>\n",
       "    <tr>\n",
       "      <th>4</th>\n",
       "      <td>de</td>\n",
       "      <td>992</td>\n",
       "    </tr>\n",
       "    <tr>\n",
       "      <th>5</th>\n",
       "      <td>es</td>\n",
       "      <td>978</td>\n",
       "    </tr>\n",
       "    <tr>\n",
       "      <th>6</th>\n",
       "      <td>ru</td>\n",
       "      <td>768</td>\n",
       "    </tr>\n",
       "    <tr>\n",
       "      <th>7</th>\n",
       "      <td>hi</td>\n",
       "      <td>501</td>\n",
       "    </tr>\n",
       "    <tr>\n",
       "      <th>8</th>\n",
       "      <td>ko</td>\n",
       "      <td>442</td>\n",
       "    </tr>\n",
       "    <tr>\n",
       "      <th>9</th>\n",
       "      <td>zh</td>\n",
       "      <td>402</td>\n",
       "    </tr>\n",
       "  </tbody>\n",
       "</table>\n",
       "</div>"
      ],
      "text/plain": [
       "  original_language  count\n",
       "0                en  30181\n",
       "1                fr   2266\n",
       "2                it   1505\n",
       "3                ja   1309\n",
       "4                de    992\n",
       "5                es    978\n",
       "6                ru    768\n",
       "7                hi    501\n",
       "8                ko    442\n",
       "9                zh    402"
      ]
     },
     "execution_count": 343,
     "metadata": {},
     "output_type": "execute_result"
    }
   ],
   "source": [
    "conteo_languages = data_cleaned['original_language'].value_counts()\n",
    "conteo_languages_df = conteo_languages.reset_index()\n",
    "pd.set_option('display.max_rows', None)\n",
    "conteo_languages_df.head(10)"
   ]
  },
  {
   "cell_type": "code",
   "execution_count": null,
   "metadata": {},
   "outputs": [],
   "source": [
    "idiomas_filtrados = ['en']\n",
    "\n",
    "data_cleaned = data_cleaned[data_cleaned['original_language'].isin(idiomas_filtrados)].reset_index(drop=True)\n",
    "data_actors = data_actors[data_actors['original_language'].isin(idiomas_filtrados)].reset_index(drop=True)"
   ]
  },
  {
   "cell_type": "code",
   "execution_count": 345,
   "metadata": {},
   "outputs": [],
   "source": [
    "data_cleaned.drop(columns=['original_language'], inplace = True)\n",
    "data_actors.drop(columns=['original_language'], inplace = True)"
   ]
  },
  {
   "cell_type": "markdown",
   "metadata": {},
   "source": [
    "# Se chequean los tipos de las columnas 'id' y 'popularity'\n",
    "- Se transforma 'id' a entero y 'popularity' a 'float'"
   ]
  },
  {
   "cell_type": "code",
   "execution_count": 346,
   "metadata": {},
   "outputs": [
    {
     "name": "stdout",
     "output_type": "stream",
     "text": [
      "id\n",
      "<class 'str'>    37231\n",
      "Name: count, dtype: int64\n",
      "popularity\n",
      "<class 'float'>    27880\n",
      "<class 'str'>       9351\n",
      "Name: count, dtype: int64\n"
     ]
    }
   ],
   "source": [
    "print(data_cleaned['id'].apply(type).value_counts())\n",
    "\n",
    "print(data_cleaned['popularity'].apply(type).value_counts())"
   ]
  },
  {
   "cell_type": "code",
   "execution_count": 347,
   "metadata": {},
   "outputs": [],
   "source": [
    "data_cleaned['id'] = data_cleaned['id'].astype(int)\n",
    "data_actors['id'] = data_actors['id'].astype(int)"
   ]
  },
  {
   "cell_type": "code",
   "execution_count": 348,
   "metadata": {},
   "outputs": [],
   "source": [
    "data_cleaned['popularity'] = data_cleaned['popularity'].astype(float)\n",
    "data_actors['popularity'] = data_actors['popularity'].astype(float)"
   ]
  },
  {
   "cell_type": "markdown",
   "metadata": {},
   "source": [
    "# Unir los dataframes obtenidos a partir del procesamiento de los datos de movies_dataset.csv y credits.csv"
   ]
  },
  {
   "cell_type": "markdown",
   "metadata": {},
   "source": [
    "- Se mantienen solo las filas con coincidencias en ambas tablas."
   ]
  },
  {
   "cell_type": "code",
   "execution_count": 349,
   "metadata": {},
   "outputs": [],
   "source": [
    "merged_data = data_cleaned.merge(credits_to_merge, on='id', how='inner')"
   ]
  },
  {
   "cell_type": "code",
   "execution_count": 350,
   "metadata": {},
   "outputs": [],
   "source": [
    "merged_data_actors = data_actors.merge(credits_to_merge, on='id', how='inner')"
   ]
  },
  {
   "cell_type": "markdown",
   "metadata": {},
   "source": [
    "# Transformar las cadenas en listas"
   ]
  },
  {
   "cell_type": "code",
   "execution_count": 351,
   "metadata": {},
   "outputs": [],
   "source": [
    "def safe_literal_eval(val):\n",
    "    \"\"\"\n",
    "    Convierte una cadena que representa una lista a una lista real.\n",
    "    \n",
    "    Parámetros:\n",
    "    val (str or list): El valor a convertir.\n",
    "\n",
    "    Returns:\n",
    "    list: Devuelve una lista si la conversión es exitosa, \n",
    "          o una lista vacía si falla o si el valor no es una cadena ni una lista.\n",
    "    \"\"\"\n",
    "    if isinstance(val, str):\n",
    "        try:\n",
    "            return ast.literal_eval(val)  # Intenta convertir la cadena a una lista\n",
    "        except (ValueError, SyntaxError):\n",
    "            return []  # Devuelve lista vacía si falla\n",
    "    return val if isinstance(val, list) else []  # Devuelve lista vacía si no es str ni list\n",
    "\n",
    "def verificar_y_convertir_listas(dataframe, columnas):\n",
    "    \"\"\"\n",
    "    Verifica que los elementos de las listas en las columnas especificadas contengan solo strings \n",
    "    y convierte cadenas que representan listas a listas reales.\n",
    "    \n",
    "    Parámetros:\n",
    "    dataframe (pd.DataFrame): DataFrame que contiene las columnas a verificar y convertir.\n",
    "    columnas (list): Lista de nombres de columnas a analizar en el DataFrame.\n",
    "\n",
    "    Returns:\n",
    "    dict: Un diccionario donde cada clave es el nombre de una columna y cada valor es un \n",
    "          booleano que indica si todas las listas contienen solo strings.\n",
    "          \n",
    "    La función también imprime un mensaje con los resultados para cada columna especificada.\n",
    "    \"\"\"\n",
    "    resultados = {}\n",
    "\n",
    "    for columna in columnas:\n",
    "        # Convertir los elementos de la columna usando safe_literal_eval\n",
    "        dataframe[columna] = dataframe[columna].apply(safe_literal_eval)\n",
    "        \n",
    "        # Verificar si todas las listas contienen solo strings\n",
    "        only_strings = dataframe[columna].apply(lambda lst: all(isinstance(item, str) for item in lst if isinstance(lst, list)))\n",
    "        resultado = only_strings.all()  # True si todas las listas contienen solo strings\n",
    "        \n",
    "        resultados[columna] = resultado\n",
    "        \n",
    "        # Imprimir el resultado para cada columna\n",
    "        print(f\"¿Todas las listas en '{columna}' contienen solo strings? {resultado}\")\n",
    "\n",
    "    return resultados\n"
   ]
  },
  {
   "cell_type": "code",
   "execution_count": 352,
   "metadata": {},
   "outputs": [
    {
     "name": "stdout",
     "output_type": "stream",
     "text": [
      "¿Todas las listas en 'main_cast' contienen solo strings? True\n",
      "¿Todas las listas en 'genres_name' contienen solo strings? False\n",
      "¿Todas las listas en 'production_companies_name' contienen solo strings? False\n",
      "¿Todas las listas en 'production_countries_name' contienen solo strings? False\n",
      "¿Todas las listas en 'main_cast' contienen solo strings? True\n"
     ]
    }
   ],
   "source": [
    "columnas_a_verificar = ['main_cast', 'genres_name', 'production_companies_name', 'production_countries_name']\n",
    "columna_actores = ['main_cast']\n",
    "\n",
    "resultados_data_cleaned = verificar_y_convertir_listas(merged_data, columnas_a_verificar)\n",
    "resultados_data_actors = verificar_y_convertir_listas(merged_data_actors, columna_actores)"
   ]
  },
  {
   "cell_type": "markdown",
   "metadata": {},
   "source": [
    "- Reemplazar espacios en blanco o cadenas vacías en todas las columnas de tipo object con 'Desconocido'"
   ]
  },
  {
   "cell_type": "code",
   "execution_count": 353,
   "metadata": {},
   "outputs": [],
   "source": [
    "columnas_objetivo = ['genres_name', 'production_companies_name', 'production_countries_name']\n",
    "merged_data[columnas_objetivo] = merged_data[columnas_objetivo].replace(r'^\\s*$', 'Desconocido', regex=True)"
   ]
  },
  {
   "cell_type": "code",
   "execution_count": 354,
   "metadata": {},
   "outputs": [
    {
     "name": "stdout",
     "output_type": "stream",
     "text": [
      "Index(['budget', 'id', 'overview', 'popularity', 'release_date', 'revenue',\n",
      "       'title', 'vote_average', 'vote_count', 'genres_name',\n",
      "       'production_companies_name', 'production_countries_name',\n",
      "       'release_year', 'return', 'main_cast'],\n",
      "      dtype='object')\n"
     ]
    }
   ],
   "source": [
    "print(merged_data.columns)"
   ]
  },
  {
   "cell_type": "code",
   "execution_count": 355,
   "metadata": {},
   "outputs": [
    {
     "data": {
      "text/plain": [
       "Index(['budget', 'id', 'popularity', 'release_date', 'revenue', 'title',\n",
       "       'vote_average', 'vote_count', 'release_year', 'return', 'main_cast'],\n",
       "      dtype='object')"
      ]
     },
     "execution_count": 355,
     "metadata": {},
     "output_type": "execute_result"
    }
   ],
   "source": [
    "merged_data_actors.columns"
   ]
  },
  {
   "cell_type": "code",
   "execution_count": 356,
   "metadata": {},
   "outputs": [],
   "source": [
    "cols = ['main_cast','title'] \n",
    "merged_data_actors[cols] = merged_data_actors[cols].replace(r'^\\s*$', 'Desconocido', regex=True)"
   ]
  },
  {
   "cell_type": "code",
   "execution_count": 357,
   "metadata": {},
   "outputs": [],
   "source": [
    "def verificar_y_convertir_listas(dataframe, columnas):\n",
    "    resultados = {}\n",
    "\n",
    "    for columna in columnas:\n",
    "        # Convertir los elementos de la columna usando safe_literal_eval\n",
    "        dataframe[columna] = dataframe[columna].apply(safe_literal_eval)\n",
    "\n",
    "        # Verificar si todas las listas contienen solo strings, asegurando que cada valor no sea NaN\n",
    "        only_strings = dataframe[columna].apply(lambda lst: all(isinstance(item, str) for item in lst if isinstance(lst, list) and item is not None))\n",
    "        resultado = only_strings.all()  # True si todas las listas contienen solo strings\n",
    "\n",
    "        # Además, convertimos los elementos de la lista a string para asegurarnos de que no haya floats\n",
    "        dataframe[columna] = dataframe[columna].apply(lambda lst: [str(item) for item in lst])\n",
    "\n",
    "        resultados[columna] = resultado\n",
    "        \n",
    "        # Imprimir el resultado para cada columna\n",
    "        print(f\"¿Todas las listas en '{columna}' contienen solo strings? {resultado}\")\n",
    "\n",
    "    return resultados"
   ]
  },
  {
   "cell_type": "code",
   "execution_count": 358,
   "metadata": {},
   "outputs": [
    {
     "name": "stdout",
     "output_type": "stream",
     "text": [
      "¿Todas las listas en 'genres_name' contienen solo strings? False\n",
      "¿Todas las listas en 'production_companies_name' contienen solo strings? False\n",
      "¿Todas las listas en 'production_countries_name' contienen solo strings? False\n",
      "¿Todas las listas en 'main_cast' contienen solo strings? True\n",
      "¿Todas las listas en 'main_cast' contienen solo strings? True\n"
     ]
    }
   ],
   "source": [
    "# Lista de columnas a verificar\n",
    "columnas_a_verificar = ['genres_name', 'production_companies_name', 'production_countries_name', 'main_cast']\n",
    "\n",
    "# Llamar a la función y verificar cada columna en la lista\n",
    "resultados = verificar_y_convertir_listas(merged_data, columnas_a_verificar)\n",
    "resultados_actors = verificar_y_convertir_listas(merged_data_actors, ['main_cast'])"
   ]
  },
  {
   "cell_type": "code",
   "execution_count": 359,
   "metadata": {},
   "outputs": [],
   "source": [
    "def verificar_tipos_datos_columnas(df, columnas):\n",
    "    \"\"\"\n",
    "    Verifica y muestra el tipo de datos de los elementos dentro de una lista de columnas de un DataFrame.\n",
    "    \n",
    "    Parámetros:\n",
    "    df (pd.DataFrame): El DataFrame que contiene las columnas a verificar.\n",
    "    columnas (list): Lista de nombres de columnas a analizar.\n",
    "    \n",
    "    Retorna:\n",
    "    None\n",
    "    \"\"\"\n",
    "    for columna in columnas:\n",
    "       \n",
    "        tipos_datos = df[columna].apply(type).value_counts()\n",
    "        \n",
    "        \n",
    "        print(f\"\\nAnálisis de tipos de datos en la columna '{columna}':\")\n",
    "        for tipo, count in tipos_datos.items():\n",
    "            print(f\" - {count} valores de tipo '{tipo.__name__}'.\")"
   ]
  },
  {
   "cell_type": "code",
   "execution_count": 360,
   "metadata": {},
   "outputs": [
    {
     "name": "stdout",
     "output_type": "stream",
     "text": [
      "\n",
      "Análisis de tipos de datos en la columna 'genres_name':\n",
      " - 37263 valores de tipo 'list'.\n",
      "\n",
      "Análisis de tipos de datos en la columna 'production_companies_name':\n",
      " - 37263 valores de tipo 'list'.\n",
      "\n",
      "Análisis de tipos de datos en la columna 'production_countries_name':\n",
      " - 37263 valores de tipo 'list'.\n",
      "\n",
      "Análisis de tipos de datos en la columna 'main_cast':\n",
      " - 37263 valores de tipo 'list'.\n",
      "\n",
      "Análisis de tipos de datos en la columna 'main_cast':\n",
      " - 37303 valores de tipo 'list'.\n"
     ]
    }
   ],
   "source": [
    "verificar_tipos_datos_columnas(merged_data, columnas_a_verificar)\n",
    "verificar_tipos_datos_columnas(merged_data_actors, ['main_cast'])"
   ]
  },
  {
   "cell_type": "code",
   "execution_count": 361,
   "metadata": {},
   "outputs": [],
   "source": [
    "def verificar_listas_solo_strings(dataframe, columnas):\n",
    "    \"\"\"\n",
    "    Verifica si cada lista en las columnas especificadas de un DataFrame contiene solo strings.\n",
    "    \n",
    "    Parámetros:\n",
    "    dataframe (pd.DataFrame): DataFrame que contiene las columnas a verificar.\n",
    "    columnas (list): Lista de nombres de columnas a analizar en el DataFrame.\n",
    "\n",
    "    Returns:\n",
    "    dict: Un diccionario donde cada clave es el nombre de una columna y cada valor es un conteo de\n",
    "          filas que cumplen o no cumplen con la condición de contener solo strings.\n",
    "          \n",
    "    La función también imprime un mensaje con los resultados para cada columna especificada.\n",
    "    \"\"\"\n",
    "    \n",
    "    resultados = {}\n",
    "    \n",
    "    for columna in columnas:\n",
    "        def check_list_of_strings(lst):\n",
    "            \"\"\"\n",
    "            Verifica si una lista contiene solo elementos de tipo string.\n",
    "            \n",
    "            Parameters:\n",
    "            lst (list): Lista a verificar.\n",
    "            \n",
    "            Returns:\n",
    "            bool: True si todos los elementos de la lista son strings, False en caso contrario.\n",
    "            \"\"\"\n",
    "            if isinstance(lst, list):\n",
    "                return all(isinstance(item, str) for item in lst)\n",
    "            return False\n",
    "\n",
    "        # Aplicar la verificación a la columna y contar cuántas filas cumplen la condición\n",
    "        only_strings = dataframe[columna].apply(check_list_of_strings).value_counts()\n",
    "        resultados[columna] = only_strings\n",
    "        \n",
    "        # Imprimir el resultado para cada columna\n",
    "        print(f\"¿Todas las listas en '{columna}' contienen solo strings?\")\n",
    "        print(only_strings)\n",
    "        print(\"\\n\")\n",
    "\n",
    "    return resultados  "
   ]
  },
  {
   "cell_type": "code",
   "execution_count": 362,
   "metadata": {},
   "outputs": [
    {
     "name": "stdout",
     "output_type": "stream",
     "text": [
      "¿Todas las listas en 'genres_name' contienen solo strings?\n",
      "genres_name\n",
      "True    37263\n",
      "Name: count, dtype: int64\n",
      "\n",
      "\n",
      "¿Todas las listas en 'production_companies_name' contienen solo strings?\n",
      "production_companies_name\n",
      "True    37263\n",
      "Name: count, dtype: int64\n",
      "\n",
      "\n",
      "¿Todas las listas en 'production_countries_name' contienen solo strings?\n",
      "production_countries_name\n",
      "True    37263\n",
      "Name: count, dtype: int64\n",
      "\n",
      "\n",
      "¿Todas las listas en 'main_cast' contienen solo strings?\n",
      "main_cast\n",
      "True    37263\n",
      "Name: count, dtype: int64\n",
      "\n",
      "\n"
     ]
    }
   ],
   "source": [
    "resultados = verificar_listas_solo_strings(merged_data, columnas_a_verificar)"
   ]
  },
  {
   "cell_type": "markdown",
   "metadata": {},
   "source": [
    "# Transformar la union de los dataframes tranformados en formato parquet"
   ]
  },
  {
   "cell_type": "code",
   "execution_count": 363,
   "metadata": {},
   "outputs": [],
   "source": [
    "merged_data.to_parquet('merged_data_model.parquet', index=False)"
   ]
  },
  {
   "cell_type": "code",
   "execution_count": 364,
   "metadata": {},
   "outputs": [],
   "source": [
    "merged_data.to_csv('merged_data_model.csv' , index = False )"
   ]
  },
  {
   "cell_type": "code",
   "execution_count": 365,
   "metadata": {},
   "outputs": [],
   "source": [
    "merged_data_actors.to_parquet('merged_data_actors.parquet', index=False)"
   ]
  },
  {
   "cell_type": "code",
   "execution_count": 366,
   "metadata": {},
   "outputs": [],
   "source": [
    "merged_data_actors.to_csv('merged_data_actors.csv', index=False)"
   ]
  }
 ],
 "metadata": {
  "kernelspec": {
   "display_name": "DataUser",
   "language": "python",
   "name": "python3"
  },
  "language_info": {
   "codemirror_mode": {
    "name": "ipython",
    "version": 3
   },
   "file_extension": ".py",
   "mimetype": "text/x-python",
   "name": "python",
   "nbconvert_exporter": "python",
   "pygments_lexer": "ipython3",
   "version": "3.11.10"
  }
 },
 "nbformat": 4,
 "nbformat_minor": 2
}
